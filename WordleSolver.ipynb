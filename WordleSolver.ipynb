{
  "cells": [
    {
      "cell_type": "code",
      "execution_count": null,
      "metadata": {
        "id": "KnY0yeXfXTM0"
      },
      "outputs": [],
      "source": [
        "!wget https://raw.githubusercontent.com/dwyl/english-words/master/words_alpha.txt"
      ]
    },
    {
      "cell_type": "markdown",
      "metadata": {
        "id": "2wS1FYRK_m2k"
      },
      "source": [
        "New Wordle Specific Dictionary"
      ]
    },
    {
      "cell_type": "code",
      "execution_count": null,
      "metadata": {
        "id": "GrThDVaH-lQp"
      },
      "outputs": [],
      "source": [
        "with open(\"Wordlewords.txt\" , mode=\"r\") as f:\n",
        "  text = f.read()\n",
        "\n",
        "text = text.replace(\"\\n\" , \"\").replace('\"' , '').replace(\"[\" , '').replace(\"]\" , '').replace('Oa=','')\n",
        "\n",
        "words = text.split(\",\")"
      ]
    },
    {
      "cell_type": "markdown",
      "metadata": {
        "id": "3NukGgjn_rgR"
      },
      "source": [
        "#Must Run"
      ]
    },
    {
      "cell_type": "code",
      "execution_count": null,
      "metadata": {
        "id": "zg9Xy7IdZNj5"
      },
      "outputs": [],
      "source": [
        "#check letters\n",
        "def main(searchSpace, exploredSureLetters):\n",
        "  results=[]\n",
        "\n",
        "  sureLetters = ['','','','','']\n",
        "  notLetters = []\n",
        "  unsureLetters = []\n",
        "\n",
        "  entry = input('Word: ')\n",
        "  print(f'y: yes \\nn: no \\nyn or ny: yes but not here \\n'+'-'*10)\n",
        "  for index, letter in enumerate(entry):\n",
        "    if exploredSureLetters[index] == letter:\n",
        "      print(letter+': y')\n",
        "      continue\n",
        "    state = input(letter + \": \")\n",
        "    if state=='y':\n",
        "      if exploredSureLetters[index] == '':\n",
        "          exploredSureLetters[index] = letter\n",
        "          sureLetters[index] = letter\n",
        "\n",
        "    if state=='n':\n",
        "      notLetters.append(letter)\n",
        "\n",
        "    if state!='n' and state!='y':\n",
        "      unsureLetters.append(str(letter+str(index+1)))\n",
        "    \n",
        "  uniqueUnsureLetters = list(set(map(lambda x: x[0], unsureLetters)))\n",
        "\n",
        "\n",
        "\n",
        "  for word in searchSpace:\n",
        "    shouldContinue = True\n",
        "    for index, sureLetter in enumerate(sureLetters):\n",
        "      if shouldContinue == False:\n",
        "        break\n",
        "      C_SureLetters = sureLetter != '' and word[index] != sureLetter\n",
        "      C_NotLetters = any(word[index] == notletter for notletter in notLetters)\n",
        "      C_UnsureLetters = any(word[int(unsureLetter[1])-1] == unsureLetter[0] for unsureLetter in unsureLetters)\n",
        "      C_RemoveUnsureLetters = any(word[int(unsureLetter[1])-1] == unsureLetter[0] for unsureLetter in unsureLetters)\n",
        "      C_OnlyUnsureLetters = not all(uniqeUnsureLetter in word for uniqeUnsureLetter in uniqueUnsureLetters)\n",
        "\n",
        "      if C_SureLetters or C_NotLetters or C_UnsureLetters or C_RemoveUnsureLetters or C_OnlyUnsureLetters:\n",
        "        shouldContinue = False\n",
        "    if shouldContinue == True:    \n",
        "      results.append(word) \n",
        "  searchSpace = results \n",
        "  return searchSpace"
      ]
    },
    {
      "cell_type": "code",
      "execution_count": null,
      "metadata": {
        "colab": {
          "base_uri": "https://localhost:8080/"
        },
        "id": "w8r4udw63ltv",
        "outputId": "c8bf5984-cc44-4226-d07d-442cf86b6e30"
      },
      "outputs": [
        {
          "metadata": {
            "tags": null
          },
          "name": "stdout",
          "output_type": "stream",
          "text": [
            "y: yes \n",
            "n: no \n",
            "yn or ny: yes but not here \n",
            "----------\n",
            "['cater', 'caper', 'cadet', 'cagey', 'caaed', 'caber', 'cadee', 'cades', 'cafes', 'caged', 'cager', 'cages', 'caked', 'cakes', 'cakey', 'caned', 'caneh', 'caner', 'canes', 'caped', 'capes', 'capex', 'cared', 'carer', 'cares', 'caret', 'carex', 'cased', 'cases', 'cates', 'caved', 'caver', 'caves', 'cawed']\n"
          ]
        }
      ],
      "source": [
        "searchSpace = words\n",
        "exploredSureLetters=['','','','','']\n",
        "\n",
        "for i in range(6):\n",
        "  searchSpace = main(searchSpace, exploredSureLetters)\n",
        "  print(searchSpace)"
      ]
    }
  ],
  "metadata": {
    "colab": {
      "collapsed_sections": [],
      "name": "Danori Wordle.ipynb",
      "provenance": [],
      "authorship_tag": "ABX9TyNvBi4j2NEXjPMvYWwHUVHB"
    },
    "kernelspec": {
      "display_name": "Python 3",
      "name": "python3"
    },
    "language_info": {
      "name": "python"
    }
  },
  "nbformat": 4,
  "nbformat_minor": 0
}